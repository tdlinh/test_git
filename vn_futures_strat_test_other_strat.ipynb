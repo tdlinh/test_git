{
 "cells": [
  {
   "cell_type": "code",
   "execution_count": 41,
   "metadata": {},
   "outputs": [],
   "source": [
    "import numpy as np\n",
    "import pandas as pd\n",
    "import matplotlib.pyplot as plt"
   ]
  },
  {
   "cell_type": "code",
   "execution_count": 42,
   "metadata": {},
   "outputs": [],
   "source": [
    "import datetime"
   ]
  },
  {
   "cell_type": "code",
   "execution_count": 43,
   "metadata": {},
   "outputs": [],
   "source": [
    "fut1m_df = pd.read_csv('data/minute_bar_data26022022/data/VN30F1M-20220226.csv')\n",
    "fut2m_df = pd.read_csv('data/minute_bar_data26022022/data/VN30F2M-20220226.csv')"
   ]
  },
  {
   "cell_type": "code",
   "execution_count": 44,
   "metadata": {},
   "outputs": [
    {
     "data": {
      "text/html": [
       "<div>\n",
       "<style scoped>\n",
       "    .dataframe tbody tr th:only-of-type {\n",
       "        vertical-align: middle;\n",
       "    }\n",
       "\n",
       "    .dataframe tbody tr th {\n",
       "        vertical-align: top;\n",
       "    }\n",
       "\n",
       "    .dataframe thead th {\n",
       "        text-align: right;\n",
       "    }\n",
       "</style>\n",
       "<table border=\"1\" class=\"dataframe\">\n",
       "  <thead>\n",
       "    <tr style=\"text-align: right;\">\n",
       "      <th></th>\n",
       "      <th>SYMBOL</th>\n",
       "      <th>TRADING_DATE</th>\n",
       "      <th>OPEN_PRICE</th>\n",
       "      <th>HIGH_PRICE</th>\n",
       "      <th>LOW_PRICE</th>\n",
       "      <th>CLOSE_PRICE</th>\n",
       "      <th>VOLUME</th>\n",
       "      <th>BUY_VOLUME</th>\n",
       "      <th>SELL_VOLUME</th>\n",
       "    </tr>\n",
       "  </thead>\n",
       "  <tbody>\n",
       "    <tr>\n",
       "      <th>0</th>\n",
       "      <td>VN30F1M</td>\n",
       "      <td>20171106 08:59:59</td>\n",
       "      <td>841000</td>\n",
       "      <td>841000</td>\n",
       "      <td>841000</td>\n",
       "      <td>841000</td>\n",
       "      <td>1</td>\n",
       "      <td>1</td>\n",
       "      <td>0</td>\n",
       "    </tr>\n",
       "    <tr>\n",
       "      <th>1</th>\n",
       "      <td>VN30F1M</td>\n",
       "      <td>20171106 09:00:51</td>\n",
       "      <td>841000</td>\n",
       "      <td>841700</td>\n",
       "      <td>840600</td>\n",
       "      <td>840600</td>\n",
       "      <td>253</td>\n",
       "      <td>243</td>\n",
       "      <td>10</td>\n",
       "    </tr>\n",
       "    <tr>\n",
       "      <th>2</th>\n",
       "      <td>VN30F1M</td>\n",
       "      <td>20171106 09:01:48</td>\n",
       "      <td>841000</td>\n",
       "      <td>841000</td>\n",
       "      <td>840700</td>\n",
       "      <td>841000</td>\n",
       "      <td>43</td>\n",
       "      <td>35</td>\n",
       "      <td>8</td>\n",
       "    </tr>\n",
       "  </tbody>\n",
       "</table>\n",
       "</div>"
      ],
      "text/plain": [
       "    SYMBOL       TRADING_DATE  OPEN_PRICE  HIGH_PRICE  LOW_PRICE  CLOSE_PRICE  \\\n",
       "0  VN30F1M  20171106 08:59:59      841000      841000     841000       841000   \n",
       "1  VN30F1M  20171106 09:00:51      841000      841700     840600       840600   \n",
       "2  VN30F1M  20171106 09:01:48      841000      841000     840700       841000   \n",
       "\n",
       "   VOLUME  BUY_VOLUME  SELL_VOLUME  \n",
       "0       1           1            0  \n",
       "1     253         243           10  \n",
       "2      43          35            8  "
      ]
     },
     "execution_count": 44,
     "metadata": {},
     "output_type": "execute_result"
    }
   ],
   "source": [
    "fut1m_df.head(3)"
   ]
  },
  {
   "cell_type": "code",
   "execution_count": 45,
   "metadata": {},
   "outputs": [
    {
     "data": {
      "text/html": [
       "<div>\n",
       "<style scoped>\n",
       "    .dataframe tbody tr th:only-of-type {\n",
       "        vertical-align: middle;\n",
       "    }\n",
       "\n",
       "    .dataframe tbody tr th {\n",
       "        vertical-align: top;\n",
       "    }\n",
       "\n",
       "    .dataframe thead th {\n",
       "        text-align: right;\n",
       "    }\n",
       "</style>\n",
       "<table border=\"1\" class=\"dataframe\">\n",
       "  <thead>\n",
       "    <tr style=\"text-align: right;\">\n",
       "      <th></th>\n",
       "      <th>SYMBOL</th>\n",
       "      <th>TRADING_DATE</th>\n",
       "      <th>OPEN_PRICE</th>\n",
       "      <th>HIGH_PRICE</th>\n",
       "      <th>LOW_PRICE</th>\n",
       "      <th>CLOSE_PRICE</th>\n",
       "      <th>VOLUME</th>\n",
       "      <th>BUY_VOLUME</th>\n",
       "      <th>SELL_VOLUME</th>\n",
       "    </tr>\n",
       "  </thead>\n",
       "  <tbody>\n",
       "    <tr>\n",
       "      <th>260368</th>\n",
       "      <td>VN30F1M</td>\n",
       "      <td>20220225 14:29:59</td>\n",
       "      <td>1518400</td>\n",
       "      <td>1519000</td>\n",
       "      <td>1518200</td>\n",
       "      <td>1519000</td>\n",
       "      <td>917</td>\n",
       "      <td>439</td>\n",
       "      <td>478</td>\n",
       "    </tr>\n",
       "    <tr>\n",
       "      <th>260369</th>\n",
       "      <td>VN30F1M</td>\n",
       "      <td>20220225 14:30:04</td>\n",
       "      <td>1518500</td>\n",
       "      <td>1518500</td>\n",
       "      <td>1518500</td>\n",
       "      <td>1518500</td>\n",
       "      <td>47</td>\n",
       "      <td>47</td>\n",
       "      <td>0</td>\n",
       "    </tr>\n",
       "    <tr>\n",
       "      <th>260370</th>\n",
       "      <td>VN30F1M</td>\n",
       "      <td>20220225 14:45:17</td>\n",
       "      <td>1517000</td>\n",
       "      <td>1517000</td>\n",
       "      <td>1517000</td>\n",
       "      <td>1517000</td>\n",
       "      <td>4355</td>\n",
       "      <td>4355</td>\n",
       "      <td>0</td>\n",
       "    </tr>\n",
       "  </tbody>\n",
       "</table>\n",
       "</div>"
      ],
      "text/plain": [
       "         SYMBOL       TRADING_DATE  OPEN_PRICE  HIGH_PRICE  LOW_PRICE  \\\n",
       "260368  VN30F1M  20220225 14:29:59     1518400     1519000    1518200   \n",
       "260369  VN30F1M  20220225 14:30:04     1518500     1518500    1518500   \n",
       "260370  VN30F1M  20220225 14:45:17     1517000     1517000    1517000   \n",
       "\n",
       "        CLOSE_PRICE  VOLUME  BUY_VOLUME  SELL_VOLUME  \n",
       "260368      1519000     917         439          478  \n",
       "260369      1518500      47          47            0  \n",
       "260370      1517000    4355        4355            0  "
      ]
     },
     "execution_count": 45,
     "metadata": {},
     "output_type": "execute_result"
    }
   ],
   "source": [
    "fut1m_df.tail(3)"
   ]
  },
  {
   "cell_type": "code",
   "execution_count": 46,
   "metadata": {},
   "outputs": [
    {
     "data": {
      "text/html": [
       "<div>\n",
       "<style scoped>\n",
       "    .dataframe tbody tr th:only-of-type {\n",
       "        vertical-align: middle;\n",
       "    }\n",
       "\n",
       "    .dataframe tbody tr th {\n",
       "        vertical-align: top;\n",
       "    }\n",
       "\n",
       "    .dataframe thead th {\n",
       "        text-align: right;\n",
       "    }\n",
       "</style>\n",
       "<table border=\"1\" class=\"dataframe\">\n",
       "  <thead>\n",
       "    <tr style=\"text-align: right;\">\n",
       "      <th></th>\n",
       "      <th>SYMBOL</th>\n",
       "      <th>TRADING_DATE</th>\n",
       "      <th>OPEN_PRICE</th>\n",
       "      <th>HIGH_PRICE</th>\n",
       "      <th>LOW_PRICE</th>\n",
       "      <th>CLOSE_PRICE</th>\n",
       "      <th>VOLUME</th>\n",
       "      <th>BUY_VOLUME</th>\n",
       "      <th>SELL_VOLUME</th>\n",
       "    </tr>\n",
       "  </thead>\n",
       "  <tbody>\n",
       "    <tr>\n",
       "      <th>0</th>\n",
       "      <td>VN30F2M</td>\n",
       "      <td>20171106 09:00:03</td>\n",
       "      <td>844000</td>\n",
       "      <td>844000</td>\n",
       "      <td>844000</td>\n",
       "      <td>844000</td>\n",
       "      <td>4</td>\n",
       "      <td>0</td>\n",
       "      <td>4</td>\n",
       "    </tr>\n",
       "    <tr>\n",
       "      <th>1</th>\n",
       "      <td>VN30F2M</td>\n",
       "      <td>20171106 09:04:56</td>\n",
       "      <td>844000</td>\n",
       "      <td>844000</td>\n",
       "      <td>844000</td>\n",
       "      <td>844000</td>\n",
       "      <td>3</td>\n",
       "      <td>3</td>\n",
       "      <td>0</td>\n",
       "    </tr>\n",
       "    <tr>\n",
       "      <th>2</th>\n",
       "      <td>VN30F2M</td>\n",
       "      <td>20171106 09:07:49</td>\n",
       "      <td>843300</td>\n",
       "      <td>843300</td>\n",
       "      <td>843200</td>\n",
       "      <td>843200</td>\n",
       "      <td>6</td>\n",
       "      <td>0</td>\n",
       "      <td>6</td>\n",
       "    </tr>\n",
       "  </tbody>\n",
       "</table>\n",
       "</div>"
      ],
      "text/plain": [
       "    SYMBOL       TRADING_DATE  OPEN_PRICE  HIGH_PRICE  LOW_PRICE  CLOSE_PRICE  \\\n",
       "0  VN30F2M  20171106 09:00:03      844000      844000     844000       844000   \n",
       "1  VN30F2M  20171106 09:04:56      844000      844000     844000       844000   \n",
       "2  VN30F2M  20171106 09:07:49      843300      843300     843200       843200   \n",
       "\n",
       "   VOLUME  BUY_VOLUME  SELL_VOLUME  \n",
       "0       4           0            4  \n",
       "1       3           3            0  \n",
       "2       6           0            6  "
      ]
     },
     "execution_count": 46,
     "metadata": {},
     "output_type": "execute_result"
    }
   ],
   "source": [
    "fut2m_df.head(3)"
   ]
  },
  {
   "cell_type": "code",
   "execution_count": 47,
   "metadata": {},
   "outputs": [
    {
     "data": {
      "text/html": [
       "<div>\n",
       "<style scoped>\n",
       "    .dataframe tbody tr th:only-of-type {\n",
       "        vertical-align: middle;\n",
       "    }\n",
       "\n",
       "    .dataframe tbody tr th {\n",
       "        vertical-align: top;\n",
       "    }\n",
       "\n",
       "    .dataframe thead th {\n",
       "        text-align: right;\n",
       "    }\n",
       "</style>\n",
       "<table border=\"1\" class=\"dataframe\">\n",
       "  <thead>\n",
       "    <tr style=\"text-align: right;\">\n",
       "      <th></th>\n",
       "      <th>SYMBOL</th>\n",
       "      <th>TRADING_DATE</th>\n",
       "      <th>OPEN_PRICE</th>\n",
       "      <th>HIGH_PRICE</th>\n",
       "      <th>LOW_PRICE</th>\n",
       "      <th>CLOSE_PRICE</th>\n",
       "      <th>VOLUME</th>\n",
       "      <th>BUY_VOLUME</th>\n",
       "      <th>SELL_VOLUME</th>\n",
       "    </tr>\n",
       "  </thead>\n",
       "  <tbody>\n",
       "    <tr>\n",
       "      <th>156617</th>\n",
       "      <td>VN30F2M</td>\n",
       "      <td>20220225 14:27:55</td>\n",
       "      <td>1516500</td>\n",
       "      <td>1516500</td>\n",
       "      <td>1516500</td>\n",
       "      <td>1516500</td>\n",
       "      <td>1</td>\n",
       "      <td>1</td>\n",
       "      <td>0</td>\n",
       "    </tr>\n",
       "    <tr>\n",
       "      <th>156618</th>\n",
       "      <td>VN30F2M</td>\n",
       "      <td>20220225 14:29:36</td>\n",
       "      <td>1516800</td>\n",
       "      <td>1516800</td>\n",
       "      <td>1516100</td>\n",
       "      <td>1516100</td>\n",
       "      <td>5</td>\n",
       "      <td>4</td>\n",
       "      <td>1</td>\n",
       "    </tr>\n",
       "    <tr>\n",
       "      <th>156619</th>\n",
       "      <td>VN30F2M</td>\n",
       "      <td>20220225 14:45:17</td>\n",
       "      <td>1513900</td>\n",
       "      <td>1513900</td>\n",
       "      <td>1513900</td>\n",
       "      <td>1513900</td>\n",
       "      <td>20</td>\n",
       "      <td>20</td>\n",
       "      <td>0</td>\n",
       "    </tr>\n",
       "  </tbody>\n",
       "</table>\n",
       "</div>"
      ],
      "text/plain": [
       "         SYMBOL       TRADING_DATE  OPEN_PRICE  HIGH_PRICE  LOW_PRICE  \\\n",
       "156617  VN30F2M  20220225 14:27:55     1516500     1516500    1516500   \n",
       "156618  VN30F2M  20220225 14:29:36     1516800     1516800    1516100   \n",
       "156619  VN30F2M  20220225 14:45:17     1513900     1513900    1513900   \n",
       "\n",
       "        CLOSE_PRICE  VOLUME  BUY_VOLUME  SELL_VOLUME  \n",
       "156617      1516500       1           1            0  \n",
       "156618      1516100       5           4            1  \n",
       "156619      1513900      20          20            0  "
      ]
     },
     "execution_count": 47,
     "metadata": {},
     "output_type": "execute_result"
    }
   ],
   "source": [
    "fut2m_df.tail(3)"
   ]
  },
  {
   "cell_type": "code",
   "execution_count": 48,
   "metadata": {},
   "outputs": [],
   "source": [
    "fut1m_df = fut1m_df.rename(columns={\"TRADING_DATE\": \"timestamp\", \n",
    "                                    \"OPEN_PRICE\": \"open\", \"HIGH_PRICE\": \"high\", \"LOW_PRICE\": \"low\", \"CLOSE_PRICE\": \"close\", \n",
    "                                    \"VOLUME\": \"volume\", \"BUY_VOLUME\": \"buy_volume\", \"SELL_VOLUME\": \"sell_volume\"})\n",
    "fut2m_df = fut2m_df.rename(columns={\"TRADING_DATE\": \"timestamp\", \n",
    "                                    \"OPEN_PRICE\": \"open\", \"HIGH_PRICE\": \"high\", \"LOW_PRICE\": \"low\", \"CLOSE_PRICE\": \"close\", \n",
    "                                    \"VOLUME\": \"volume\", \"BUY_VOLUME\": \"buy_volume\", \"SELL_VOLUME\": \"sell_volume\"})"
   ]
  },
  {
   "cell_type": "code",
   "execution_count": 49,
   "metadata": {},
   "outputs": [
    {
     "data": {
      "text/html": [
       "<div>\n",
       "<style scoped>\n",
       "    .dataframe tbody tr th:only-of-type {\n",
       "        vertical-align: middle;\n",
       "    }\n",
       "\n",
       "    .dataframe tbody tr th {\n",
       "        vertical-align: top;\n",
       "    }\n",
       "\n",
       "    .dataframe thead th {\n",
       "        text-align: right;\n",
       "    }\n",
       "</style>\n",
       "<table border=\"1\" class=\"dataframe\">\n",
       "  <thead>\n",
       "    <tr style=\"text-align: right;\">\n",
       "      <th></th>\n",
       "      <th>SYMBOL</th>\n",
       "      <th>timestamp</th>\n",
       "      <th>open</th>\n",
       "      <th>high</th>\n",
       "      <th>low</th>\n",
       "      <th>close</th>\n",
       "      <th>volume</th>\n",
       "      <th>buy_volume</th>\n",
       "      <th>sell_volume</th>\n",
       "    </tr>\n",
       "  </thead>\n",
       "  <tbody>\n",
       "    <tr>\n",
       "      <th>0</th>\n",
       "      <td>VN30F1M</td>\n",
       "      <td>20171106 08:59:59</td>\n",
       "      <td>841000</td>\n",
       "      <td>841000</td>\n",
       "      <td>841000</td>\n",
       "      <td>841000</td>\n",
       "      <td>1</td>\n",
       "      <td>1</td>\n",
       "      <td>0</td>\n",
       "    </tr>\n",
       "    <tr>\n",
       "      <th>1</th>\n",
       "      <td>VN30F1M</td>\n",
       "      <td>20171106 09:00:51</td>\n",
       "      <td>841000</td>\n",
       "      <td>841700</td>\n",
       "      <td>840600</td>\n",
       "      <td>840600</td>\n",
       "      <td>253</td>\n",
       "      <td>243</td>\n",
       "      <td>10</td>\n",
       "    </tr>\n",
       "    <tr>\n",
       "      <th>2</th>\n",
       "      <td>VN30F1M</td>\n",
       "      <td>20171106 09:01:48</td>\n",
       "      <td>841000</td>\n",
       "      <td>841000</td>\n",
       "      <td>840700</td>\n",
       "      <td>841000</td>\n",
       "      <td>43</td>\n",
       "      <td>35</td>\n",
       "      <td>8</td>\n",
       "    </tr>\n",
       "  </tbody>\n",
       "</table>\n",
       "</div>"
      ],
      "text/plain": [
       "    SYMBOL          timestamp    open    high     low   close  volume  \\\n",
       "0  VN30F1M  20171106 08:59:59  841000  841000  841000  841000       1   \n",
       "1  VN30F1M  20171106 09:00:51  841000  841700  840600  840600     253   \n",
       "2  VN30F1M  20171106 09:01:48  841000  841000  840700  841000      43   \n",
       "\n",
       "   buy_volume  sell_volume  \n",
       "0           1            0  \n",
       "1         243           10  \n",
       "2          35            8  "
      ]
     },
     "execution_count": 49,
     "metadata": {},
     "output_type": "execute_result"
    }
   ],
   "source": [
    "fut1m_df.head(3)"
   ]
  },
  {
   "cell_type": "code",
   "execution_count": 50,
   "metadata": {},
   "outputs": [],
   "source": [
    "fut1m_df['volumeXprice'] = fut1m_df['volume'] * fut1m_df['close']\n",
    "fut1m_df['buy_volumeXprice'] = fut1m_df['buy_volume'] * fut1m_df['close']\n",
    "fut1m_df['sell_volumeXprice'] = fut1m_df['sell_volume'] * fut1m_df['close']\n",
    "\n",
    "fut2m_df['volumeXprice'] = fut2m_df['volume'] * fut2m_df['close']\n",
    "fut2m_df['buy_volumeXprice'] = fut2m_df['buy_volume'] * fut2m_df['close']\n",
    "fut2m_df['sell_volumeXprice'] = fut2m_df['sell_volume'] * fut2m_df['close']"
   ]
  },
  {
   "cell_type": "markdown",
   "metadata": {},
   "source": [
    "### data process"
   ]
  },
  {
   "cell_type": "code",
   "execution_count": 51,
   "metadata": {},
   "outputs": [],
   "source": [
    "fut1m_df = fut1m_df.drop(['SYMBOL'], axis=1)\n",
    "fut1m_df = fut1m_df.set_index('timestamp')\n",
    "fut1m_df.index = pd.to_datetime(fut1m_df.index)"
   ]
  },
  {
   "cell_type": "code",
   "execution_count": 52,
   "metadata": {},
   "outputs": [],
   "source": [
    "fut2m_df = fut2m_df.drop(['SYMBOL'], axis=1)\n",
    "fut2m_df = fut2m_df.set_index('timestamp')\n",
    "fut2m_df.index = pd.to_datetime(fut2m_df.index)"
   ]
  },
  {
   "cell_type": "code",
   "execution_count": 26,
   "metadata": {},
   "outputs": [],
   "source": [
    "# fut1m_df['date'] = fut1m_df['TRADING_DATE_'].apply(lambda x: x.date())\n",
    "# fut1m_df['date'] = fut1m_df['date'].map(lambda x: int(x.year * 1e4 + x.month * 1e2 + x.day))\n",
    "# fut1m_df['time'] = fut1m_df['TRADING_DATE_'].apply(lambda x: x.time())\n",
    "\n",
    "# fut2m_df['date'] = fut2m_df['TRADING_DATE_'].apply(lambda x: x.date())\n",
    "# fut2m_df['date'] = fut2m_df['date'].map(lambda x: int(x.year * 1e4 + x.month * 1e2 + x.day))\n",
    "# fut2m_df['time'] = fut2m_df['TRADING_DATE_'].apply(lambda x: x.time())\n",
    "# fut2m_df['hhmm'] = fut2m_df['TRADING_DATE_'].apply(lambda x: x.hour * 100 + x.minute)"
   ]
  },
  {
   "cell_type": "code",
   "execution_count": 53,
   "metadata": {},
   "outputs": [
    {
     "name": "stdout",
     "output_type": "stream",
     "text": [
      "(260371, 10)\n",
      "(156620, 10)\n"
     ]
    }
   ],
   "source": [
    "print(fut1m_df.shape)\n",
    "print(fut2m_df.shape)"
   ]
  },
  {
   "cell_type": "code",
   "execution_count": 54,
   "metadata": {},
   "outputs": [],
   "source": [
    "fut1m_df = fut1m_df.dropna()\n",
    "fut2m_df = fut2m_df.dropna()"
   ]
  },
  {
   "cell_type": "code",
   "execution_count": 55,
   "metadata": {},
   "outputs": [
    {
     "name": "stdout",
     "output_type": "stream",
     "text": [
      "(260371, 10)\n",
      "(156620, 10)\n"
     ]
    }
   ],
   "source": [
    "print(fut1m_df.shape)\n",
    "print(fut2m_df.shape)"
   ]
  },
  {
   "cell_type": "markdown",
   "metadata": {},
   "source": [
    "* resample to 30 minute bar"
   ]
  },
  {
   "cell_type": "code",
   "execution_count": 243,
   "metadata": {},
   "outputs": [],
   "source": [
    "fut1m_df_ = fut1m_df.resample('30Min', closed='right', label='right').agg(\n",
    "            {'open': 'first', 'high': 'max', 'low': 'min', 'close': 'last', \n",
    "             'volume': 'sum', 'buy_volume': 'sum', 'sell_volume': 'sum',\n",
    "             'volumeXprice': 'sum', 'buy_volumeXprice': 'sum', 'sell_volumeXprice': 'sum'})\n",
    "\n",
    "fut2m_df_ = fut2m_df.resample('30Min', closed='right', label='right').agg(\n",
    "            {'open': 'first', 'high': 'max', 'low': 'min', 'close': 'last', \n",
    "             'volume': 'sum', 'buy_volume': 'sum', 'sell_volume': 'sum',\n",
    "             'volumeXprice': 'sum', 'buy_volumeXprice': 'sum', 'sell_volumeXprice': 'sum'})"
   ]
  },
  {
   "cell_type": "code",
   "execution_count": 244,
   "metadata": {},
   "outputs": [
    {
     "name": "stdout",
     "output_type": "stream",
     "text": [
      "(75469, 10)\n",
      "(75468, 10)\n"
     ]
    }
   ],
   "source": [
    "print(fut1m_df_.shape)\n",
    "print(fut2m_df_.shape)"
   ]
  },
  {
   "cell_type": "code",
   "execution_count": 245,
   "metadata": {},
   "outputs": [],
   "source": [
    "fut1m_df_ = fut1m_df_.dropna()\n",
    "fut2m_df_ = fut2m_df_.dropna()"
   ]
  },
  {
   "cell_type": "code",
   "execution_count": 248,
   "metadata": {},
   "outputs": [],
   "source": [
    "fut2m_df_ = fut2m_df_.reindex(fut1m_df_.index)"
   ]
  },
  {
   "cell_type": "code",
   "execution_count": 249,
   "metadata": {
    "scrolled": true
   },
   "outputs": [],
   "source": [
    "fut1m_df_['VWAP'] = fut1m_df_['volumeXprice']/ fut1m_df_['volume']\n",
    "fut1m_df_['buy_VWAP'] = fut1m_df_['buy_volumeXprice']/ fut1m_df_['buy_volume']\n",
    "fut1m_df_['sell_VWAP'] = fut1m_df_['sell_volumeXprice']/ fut1m_df_['sell_volume']\n",
    "\n",
    "fut2m_df_['VWAP'] = fut2m_df_['volumeXprice']/ fut2m_df_['volume']\n",
    "fut2m_df_['buy_VWAP'] = fut2m_df_['buy_volumeXprice']/ fut2m_df_['buy_volume']\n",
    "fut2m_df_['sell_VWAP'] = fut2m_df_['sell_volumeXprice']/ fut2m_df_['sell_volume']"
   ]
  },
  {
   "cell_type": "code",
   "execution_count": 250,
   "metadata": {},
   "outputs": [],
   "source": [
    "fut1m_df_ = fut1m_df_.reset_index()\n",
    "fut2m_df_ = fut2m_df_.reset_index()"
   ]
  },
  {
   "cell_type": "code",
   "execution_count": 251,
   "metadata": {},
   "outputs": [],
   "source": [
    "fut1m_df_ = fut1m_df_.drop(['volumeXprice', 'buy_volumeXprice', 'sell_volumeXprice'], axis=1)\n",
    "fut2m_df_ = fut2m_df_.drop(['volumeXprice', 'buy_volumeXprice', 'sell_volumeXprice'], axis=1)"
   ]
  },
  {
   "cell_type": "code",
   "execution_count": 252,
   "metadata": {},
   "outputs": [
    {
     "data": {
      "text/html": [
       "<div>\n",
       "<style scoped>\n",
       "    .dataframe tbody tr th:only-of-type {\n",
       "        vertical-align: middle;\n",
       "    }\n",
       "\n",
       "    .dataframe tbody tr th {\n",
       "        vertical-align: top;\n",
       "    }\n",
       "\n",
       "    .dataframe thead th {\n",
       "        text-align: right;\n",
       "    }\n",
       "</style>\n",
       "<table border=\"1\" class=\"dataframe\">\n",
       "  <thead>\n",
       "    <tr style=\"text-align: right;\">\n",
       "      <th></th>\n",
       "      <th>timestamp</th>\n",
       "      <th>open</th>\n",
       "      <th>high</th>\n",
       "      <th>low</th>\n",
       "      <th>close</th>\n",
       "      <th>volume</th>\n",
       "      <th>buy_volume</th>\n",
       "      <th>sell_volume</th>\n",
       "      <th>VWAP</th>\n",
       "      <th>buy_VWAP</th>\n",
       "      <th>sell_VWAP</th>\n",
       "    </tr>\n",
       "  </thead>\n",
       "  <tbody>\n",
       "    <tr>\n",
       "      <th>0</th>\n",
       "      <td>2017-11-06 09:00:00</td>\n",
       "      <td>841000.0</td>\n",
       "      <td>841000.0</td>\n",
       "      <td>841000.0</td>\n",
       "      <td>841000.0</td>\n",
       "      <td>1</td>\n",
       "      <td>1</td>\n",
       "      <td>0</td>\n",
       "      <td>841000.000000</td>\n",
       "      <td>841000.000000</td>\n",
       "      <td>NaN</td>\n",
       "    </tr>\n",
       "    <tr>\n",
       "      <th>1</th>\n",
       "      <td>2017-11-06 09:30:00</td>\n",
       "      <td>841000.0</td>\n",
       "      <td>842200.0</td>\n",
       "      <td>840600.0</td>\n",
       "      <td>842000.0</td>\n",
       "      <td>2232</td>\n",
       "      <td>1323</td>\n",
       "      <td>909</td>\n",
       "      <td>841696.729391</td>\n",
       "      <td>841591.383220</td>\n",
       "      <td>841850.055006</td>\n",
       "    </tr>\n",
       "    <tr>\n",
       "      <th>2</th>\n",
       "      <td>2017-11-06 10:00:00</td>\n",
       "      <td>841700.0</td>\n",
       "      <td>841800.0</td>\n",
       "      <td>840500.0</td>\n",
       "      <td>841200.0</td>\n",
       "      <td>1619</td>\n",
       "      <td>748</td>\n",
       "      <td>871</td>\n",
       "      <td>841390.426189</td>\n",
       "      <td>841418.983957</td>\n",
       "      <td>841365.901263</td>\n",
       "    </tr>\n",
       "  </tbody>\n",
       "</table>\n",
       "</div>"
      ],
      "text/plain": [
       "            timestamp      open      high       low     close  volume  \\\n",
       "0 2017-11-06 09:00:00  841000.0  841000.0  841000.0  841000.0       1   \n",
       "1 2017-11-06 09:30:00  841000.0  842200.0  840600.0  842000.0    2232   \n",
       "2 2017-11-06 10:00:00  841700.0  841800.0  840500.0  841200.0    1619   \n",
       "\n",
       "   buy_volume  sell_volume           VWAP       buy_VWAP      sell_VWAP  \n",
       "0           1            0  841000.000000  841000.000000            NaN  \n",
       "1        1323          909  841696.729391  841591.383220  841850.055006  \n",
       "2         748          871  841390.426189  841418.983957  841365.901263  "
      ]
     },
     "execution_count": 252,
     "metadata": {},
     "output_type": "execute_result"
    }
   ],
   "source": [
    "fut1m_df_.head(3)"
   ]
  },
  {
   "cell_type": "code",
   "execution_count": 253,
   "metadata": {},
   "outputs": [],
   "source": [
    "fut1m_df_['dt'] = fut1m_df_['timestamp'].apply(lambda x: x.date())\n",
    "fut1m_df_['date'] = fut1m_df_['dt'].map(lambda x: int(x.year * 1e4 + x.month * 1e2 + x.day))\n",
    "fut1m_df_['time'] = fut1m_df_['timestamp'].apply(lambda x: x.time())\n",
    "fut1m_df_['hhmm'] = fut1m_df_['time'].apply(lambda x: x.hour * 100 + x.minute)"
   ]
  },
  {
   "cell_type": "code",
   "execution_count": 254,
   "metadata": {},
   "outputs": [],
   "source": [
    "fut2m_df_['dt'] = fut2m_df_['timestamp'].apply(lambda x: x.date())\n",
    "fut2m_df_['date'] = fut2m_df_['dt'].map(lambda x: int(x.year * 1e4 + x.month * 1e2 + x.day))\n",
    "fut2m_df_['time'] = fut2m_df_['timestamp'].apply(lambda x: x.time())\n",
    "fut2m_df_['hhmm'] = fut2m_df_['time'].apply(lambda x: x.hour * 100 + x.minute)"
   ]
  },
  {
   "cell_type": "code",
   "execution_count": 258,
   "metadata": {},
   "outputs": [
    {
     "name": "stdout",
     "output_type": "stream",
     "text": [
      "(10735, 14)\n",
      "(10735, 14)\n"
     ]
    }
   ],
   "source": [
    "print(fut1m_df_.shape)\n",
    "print(fut2m_df_.shape)"
   ]
  },
  {
   "cell_type": "code",
   "execution_count": 259,
   "metadata": {
    "scrolled": true
   },
   "outputs": [],
   "source": [
    "day_of_week_v = [x.weekday() for x in np.unique(fut1m_df_['dt'].values)]\n",
    "day_of_week_v = np.array(day_of_week_v)"
   ]
  },
  {
   "cell_type": "code",
   "execution_count": 260,
   "metadata": {},
   "outputs": [],
   "source": [
    "dates_v = np.unique(fut1m_df_['dt'].values)"
   ]
  },
  {
   "cell_type": "code",
   "execution_count": 261,
   "metadata": {},
   "outputs": [
    {
     "data": {
      "text/plain": [
       "array([datetime.date(2017, 11, 6), datetime.date(2017, 11, 7),\n",
       "       datetime.date(2017, 11, 8), ..., datetime.date(2022, 2, 23),\n",
       "       datetime.date(2022, 2, 24), datetime.date(2022, 2, 25)],\n",
       "      dtype=object)"
      ]
     },
     "execution_count": 261,
     "metadata": {},
     "output_type": "execute_result"
    }
   ],
   "source": [
    "dates_v"
   ]
  },
  {
   "cell_type": "code",
   "execution_count": null,
   "metadata": {},
   "outputs": [],
   "source": []
  },
  {
   "cell_type": "code",
   "execution_count": null,
   "metadata": {},
   "outputs": [],
   "source": []
  },
  {
   "cell_type": "code",
   "execution_count": null,
   "metadata": {},
   "outputs": [],
   "source": []
  },
  {
   "cell_type": "code",
   "execution_count": null,
   "metadata": {},
   "outputs": [],
   "source": []
  },
  {
   "cell_type": "code",
   "execution_count": null,
   "metadata": {},
   "outputs": [],
   "source": []
  },
  {
   "cell_type": "code",
   "execution_count": null,
   "metadata": {},
   "outputs": [],
   "source": []
  },
  {
   "cell_type": "code",
   "execution_count": null,
   "metadata": {},
   "outputs": [],
   "source": []
  },
  {
   "cell_type": "code",
   "execution_count": null,
   "metadata": {},
   "outputs": [],
   "source": []
  },
  {
   "cell_type": "code",
   "execution_count": null,
   "metadata": {},
   "outputs": [],
   "source": []
  },
  {
   "cell_type": "code",
   "execution_count": null,
   "metadata": {},
   "outputs": [],
   "source": []
  },
  {
   "cell_type": "code",
   "execution_count": null,
   "metadata": {},
   "outputs": [],
   "source": []
  },
  {
   "cell_type": "code",
   "execution_count": null,
   "metadata": {},
   "outputs": [],
   "source": []
  }
 ],
 "metadata": {
  "kernelspec": {
   "display_name": "Python 3",
   "language": "python",
   "name": "python3"
  },
  "language_info": {
   "codemirror_mode": {
    "name": "ipython",
    "version": 3
   },
   "file_extension": ".py",
   "mimetype": "text/x-python",
   "name": "python",
   "nbconvert_exporter": "python",
   "pygments_lexer": "ipython3",
   "version": "3.8.5"
  }
 },
 "nbformat": 4,
 "nbformat_minor": 4
}
